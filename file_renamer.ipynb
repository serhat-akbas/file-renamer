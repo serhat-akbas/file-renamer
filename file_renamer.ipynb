{
 "cells": [
  {
   "cell_type": "code",
   "execution_count": null,
   "id": "9f20cd9f-9f7c-411c-a5bd-cd2903a58d6d",
   "metadata": {},
   "outputs": [],
   "source": [
    "from datetime import datetime\n",
    "import os\n",
    "from pathlib import Path\n",
    "from PIL import Image\n",
    "from pillow_heif import register_heif_opener\n",
    "import re\n",
    "import yaml\n",
    "from yaml.loader import SafeLoader"
   ]
  },
  {
   "cell_type": "code",
   "execution_count": null,
   "id": "d96ff27f-e85e-496f-878f-c07f3679db2e",
   "metadata": {},
   "outputs": [],
   "source": [
    "with open(\"local.yaml\") as f:\n",
    "    local_data = yaml.load(f, Loader=SafeLoader)\n",
    "\n",
    "folder = local_data[\"folder\"]\n",
    "os.chdir(folder)\n",
    "\n",
    "register_heif_opener()\n",
    "\n",
    "log_file = open(\"image_log.txt\", 'a')"
   ]
  },
  {
   "cell_type": "code",
   "execution_count": null,
   "id": "402bf2e9-6f16-4115-a2a3-cf80f4f24185",
   "metadata": {},
   "outputs": [],
   "source": [
    "def get_file_meta(fname):\n",
    "    if re.search(r\"\\.jpg$|\\.jpeg$|\\.png$|\\.bmp$\", str(fname), re.IGNORECASE):\n",
    "        image = Image.open(fname)\n",
    "        exif_data = image._getexif()\n",
    "\n",
    "        if exif_data:\n",
    "            date_original = exif_data.get(36867)\n",
    "            return date_original\n",
    "        else:\n",
    "            log_file.write(str(fname) + \" does not have exif data.\\n\")\n",
    "    elif re.search(r\"\\.HEIC$\", str(fname), re.IGNORECASE):\n",
    "        image = Image.open(fname)\n",
    "        exif_data = image.getexif()\n",
    "\n",
    "        if exif_data:\n",
    "            date_original = exif_data[306]\n",
    "            return date_original\n",
    "        else:\n",
    "            log_file.write(str(fname) + \" does not have exif data.\\n\")\n",
    "    elif re.search(r\"\\.txt$\", str(fname), re.IGNORECASE):\n",
    "        None\n",
    "    else:\n",
    "        log_file.write(str(fname) + \" has unknown file format.\\n\")\n",
    "\n",
    "    return None\n",
    "        "
   ]
  },
  {
   "cell_type": "code",
   "execution_count": null,
   "id": "8b3cf83b-d304-4726-836c-c8abd152b8a6",
   "metadata": {},
   "outputs": [],
   "source": [
    "new_name_dict = {}\n",
    "\n",
    "for fname in Path(folder).glob('*'):\n",
    "    if fname.is_file():\n",
    "        try:\n",
    "            date_original = get_file_meta(fname)\n",
    "\n",
    "            if date_original:\n",
    "                date = datetime.strptime(date_original, \"%Y:%m:%d %H:%M:%S\").strftime('%Y%m%d_%H%M%S')\n",
    "                name, extension = os.path.splitext(fname)\n",
    "\n",
    "                # There might be files with same timestamp as creation date. Give them index.\n",
    "                if (date in new_name_dict.keys()):\n",
    "                    index = new_name_dict[date] + 1\n",
    "                    new_name_dict[date] = index\n",
    "                else:\n",
    "                    index = 0\n",
    "                    new_name_dict[date] = index\n",
    "\n",
    "                new_fname = os.path.join(folder, date + '_' + str(index) + extension)\n",
    "                log_file.write(str(fname) + \" =====> \" + str(new_fname))\n",
    "                os.rename(fname, new_fname)\n",
    "        except:\n",
    "            log_file.write(str(fname) + \" may be corropted or not an image file.\\n\")\n",
    "\n",
    "log_file.close()"
   ]
  },
  {
   "cell_type": "code",
   "execution_count": null,
   "id": "d9aba37e-0abf-4117-b311-9e9b67ec16ce",
   "metadata": {},
   "outputs": [],
   "source": []
  }
 ],
 "metadata": {
  "kernelspec": {
   "display_name": "Python 3 (ipykernel)",
   "language": "python",
   "name": "python3"
  },
  "language_info": {
   "codemirror_mode": {
    "name": "ipython",
    "version": 3
   },
   "file_extension": ".py",
   "mimetype": "text/x-python",
   "name": "python",
   "nbconvert_exporter": "python",
   "pygments_lexer": "ipython3",
   "version": "3.11.4"
  }
 },
 "nbformat": 4,
 "nbformat_minor": 5
}
